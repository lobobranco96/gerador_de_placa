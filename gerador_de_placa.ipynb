{
 "cells": [
  {
   "cell_type": "code",
   "execution_count": 10,
   "id": "e2998904",
   "metadata": {},
   "outputs": [],
   "source": [
    "#importando as bibliotecas que iremos utilizar\n",
    "import random\n",
    "from datetime import datetime\n",
    "\n",
    "\n",
    "\n",
    "placa_geradas = []  # lista que recebe as placas geradas na função gerar\n",
    "dataehora = [] # armazena a data e hora geradas dentro da função gerar\n",
    "\n",
    "#funçao que faz tudo acontecer\n",
    "def gerar():\n",
    "    placa = [] # lista das letras e numeros gerados pela função random.choice\n",
    "    letra = ['A', 'B', 'C', 'D', 'E', 'F', 'G', 'H', 'I', 'J', 'L', 'M', 'N', 'O', 'P', 'Q', 'R', 'S', 'T', 'U', 'V', 'X', 'Z']\n",
    "    numero = ['0', '1', '2', '3', '4', '5', '6', '7', '8', '9']\n",
    "    letra_numero = []\n",
    "   \n",
    "    for i in letra:\n",
    "        letra_numero.append(i)\n",
    "    for i in numero:\n",
    "        letra_numero.append(i)\n",
    "\n",
    "    for i in range(3):\n",
    "        choose = random.choice(letra)\n",
    "        placa.append(choose)\n",
    "    for i in range(5):\n",
    "        choose1 = random.choice(numero)\n",
    "        placa.append(choose1)\n",
    "    placa[5] = random.choice(letra_numero)\n",
    "    placa[3] = '-'\n",
    "    placa[0:] = [''.join(placa[0:])]\n",
    "    if placa in placa_geradas:\n",
    "        pass\n",
    "    else:\n",
    "        placa_geradas.append(placa)\n",
    "    for i in placa:\n",
    "        print(f'Placa : {i} gerada com sucesso.')\n",
    "    now = datetime.now() # current date and time\n",
    "    date_time = now.strftime(\"%m/%d/%Y, %H:%M:%S\")\n",
    "    dataehora.append(date_time)\n",
    "\n",
    "   \n",
    "def mostrar():\n",
    "    for i, p in enumerate(placa_geradas):\n",
    "        pp = placa_geradas[i][0]\n",
    "        hora = dataehora[i]\n",
    "        print(f'N° {i} - Placa: {pp}, Data: {hora}')"
   ]
  },
  {
   "cell_type": "code",
   "execution_count": 11,
   "id": "5b2e911d",
   "metadata": {},
   "outputs": [
    {
     "name": "stdout",
     "output_type": "stream",
     "text": [
      "Placa : GZM-4C37 gerada com sucesso.\n",
      "N° 0 - Placa: GZM-4C37, Data: 07/13/2023, 10:31:28\n"
     ]
    }
   ],
   "source": [
    "gerar()\n",
    "mostrar()"
   ]
  },
  {
   "cell_type": "code",
   "execution_count": null,
   "id": "a8e28f7d",
   "metadata": {},
   "outputs": [],
   "source": []
  }
 ],
 "metadata": {
  "kernelspec": {
   "display_name": "Python 3 (ipykernel)",
   "language": "python",
   "name": "python3"
  },
  "language_info": {
   "codemirror_mode": {
    "name": "ipython",
    "version": 3
   },
   "file_extension": ".py",
   "mimetype": "text/x-python",
   "name": "python",
   "nbconvert_exporter": "python",
   "pygments_lexer": "ipython3",
   "version": "3.10.9"
  }
 },
 "nbformat": 4,
 "nbformat_minor": 5
}
